{
 "cells": [
  {
   "cell_type": "code",
   "execution_count": null,
   "metadata": {},
   "outputs": [],
   "source": [
    "import json\n",
    "from collections import Counter\n",
    "import dateparser\n",
    "\n",
    "import pandas as pd\n",
    "import numpy as np\n",
    "import names"
   ]
  },
  {
   "cell_type": "markdown",
   "metadata": {},
   "source": [
    "### Example message\n",
    "\n",
    "```\n",
    "{\n",
    "  \"id\": \"12345\",\n",
    "  \"type\": \"GuildMemberJoin\",\n",
    "  \"timestamp\": \"2018-08-25T14:49:47.219+00:00\",\n",
    "  \"timestampEdited\": null,\n",
    "  \"callEndedTimestamp\": null,\n",
    "  \"isPinned\": false,\n",
    "  \"content\": \"Joined the server.\",\n",
    "  \"author\": {\n",
    "    \"id\": \"12345678910\",\n",
    "    \"name\": \"Steven\",\n",
    "    \"discriminator\": \"1234\",\n",
    "    \"isBot\": false,\n",
    "    \"avatarUrl\": \"avatar.url.com\"\n",
    "  },\n",
    "  \"attachments\": [],\n",
    "  \"embeds\": [],\n",
    "  \"reactions\": []\n",
    "},\n",
    "```"
   ]
  },
  {
   "cell_type": "code",
   "execution_count": null,
   "metadata": {},
   "outputs": [],
   "source": [
    "# You can add it more than one word\n",
    "words = [\"bro\"] \n",
    "chatJSONFileName = \"general.json\""
   ]
  },
  {
   "cell_type": "code",
   "execution_count": null,
   "metadata": {},
   "outputs": [],
   "source": [
    "with open(chatJSONFileName) as chatFile:\n",
    "    data = json.load(chatFile)\n",
    "    messages = data[\"messages\"]\n",
    "    \n",
    "dateDict = dict()\n",
    "\n",
    "broDict = dict()\n",
    "for message in messages:\n",
    "    author = message[\"author\"][\"name\"]\n",
    "    \n",
    "    # Case-insensitive matching\n",
    "    content = message[\"content\"].lower()\n",
    "    dateString = message[\"timestamp\"]\n",
    "\n",
    "    if author not in broDict:\n",
    "        broDict[author] = Counter()\n",
    "    \n",
    "    for word in words:\n",
    "        if word in content:\n",
    "            if dateString not in dateDict:\n",
    "                dateDict[dateString] = np.datetime64(dateparser.parse(dateString).date())\n",
    "            date = dateDict[dateString]\n",
    "            broDict[author][date] += 1\n",
    "broDict"
   ]
  },
  {
   "cell_type": "code",
   "execution_count": null,
   "metadata": {},
   "outputs": [],
   "source": [
    "# Getting the earliest mention the word\n",
    "earliest = min(d for a in broDict for d in broDict[a])\n",
    "earliest"
   ]
  },
  {
   "cell_type": "code",
   "execution_count": null,
   "metadata": {},
   "outputs": [],
   "source": [
    "# Latest mention of the word\n",
    "latest = max(d for a in broDict for d in broDict[a])\n",
    "latest"
   ]
  },
  {
   "cell_type": "code",
   "execution_count": null,
   "metadata": {},
   "outputs": [],
   "source": [
    "df = pd.DataFrame()\n",
    "df[\"dates\"] = pd.date_range(earliest, latest)\n",
    "\n",
    "for author in broDict:\n",
    "    df[author] = [0] * len(df)\n",
    "    for date in broDict[author]:\n",
    "        count = broDict[author][date]\n",
    "        df.loc[df[\"dates\"] == date, [author]] = count\n",
    "    df[author] = df[author].cumsum()"
   ]
  },
  {
   "cell_type": "code",
   "execution_count": null,
   "metadata": {},
   "outputs": [],
   "source": [
    "df.set_index(\"dates\", inplace=True)\n",
    "df"
   ]
  },
  {
   "cell_type": "code",
   "execution_count": null,
   "metadata": {},
   "outputs": [],
   "source": [
    "import bar_chart_race as bcr"
   ]
  },
  {
   "cell_type": "code",
   "execution_count": null,
   "metadata": {},
   "outputs": [],
   "source": [
    "bcr.bar_chart_race(\n",
    "    df=df,\n",
    "    filename=f'bro.mp4',\n",
    "    orientation='h',\n",
    "    sort='desc',\n",
    "    n_bars=8,\n",
    "    fixed_order=False,\n",
    "    fixed_max=True,\n",
    "    steps_per_period=3,\n",
    "    interpolate_period=False,\n",
    "    label_bars=True,\n",
    "    bar_size=.95,\n",
    "    period_label={'x': .99, 'y': .25, 'ha': 'right', 'va': 'center'},\n",
    "    period_fmt='%B %d, %Y',\n",
    "    period_summary_func=lambda v, r: {'x': .99, 'y': .18,\n",
    "                                      's': f'Total uses of bro: {v.nlargest(8).sum():,.0f}',\n",
    "                                      'ha': 'right', 'size': 8, 'family': 'Courier New'},\n",
    "    perpendicular_bar_func=None,\n",
    "    period_length=50,\n",
    "    figsize=(8, 4.5),\n",
    "    dpi=240,\n",
    "    cmap='dark12',\n",
    "    title=f'Messages containing \"bro\" over time',\n",
    "    title_size='',\n",
    "    bar_label_size=7,\n",
    "    tick_label_size=7,\n",
    "    shared_fontdict={'family' : 'DejaVu Sans', 'color' : '.1'},\n",
    "    scale='linear',\n",
    "    writer=None,\n",
    "    fig=None,\n",
    "    bar_kwargs={'alpha': .7},\n",
    "    filter_column_colors=True)  "
   ]
  }
 ],
 "metadata": {
  "kernelspec": {
   "display_name": "Python 3",
   "language": "python",
   "name": "python3"
  },
  "language_info": {
   "codemirror_mode": {
    "name": "ipython",
    "version": 3
   },
   "file_extension": ".py",
   "mimetype": "text/x-python",
   "name": "python",
   "nbconvert_exporter": "python",
   "pygments_lexer": "ipython3",
   "version": "3.9.0"
  }
 },
 "nbformat": 4,
 "nbformat_minor": 4
}
